{
 "cells": [
  {
   "cell_type": "code",
   "execution_count": 36,
   "metadata": {},
   "outputs": [],
   "source": [
    "from PIL import Image\n",
    "import numpy as np\n",
    "import sys\n",
    "from configparser import ConfigParser\n",
    "import argparse\n",
    "import os\n",
    "\n",
    "# class ImageModifier:\n",
    "#     def __init__(self, image_path):\n",
    "#         self.image_path = image_path\n",
    "#         self.image = Image.open(image_path)\n",
    "#         #self.image = Image.new(io.mode, io.size)\n",
    "        \n",
    "#     def show(self):\n",
    "#         return self.image.show()\n",
    "        \n",
    "#     def rotate_90_deg(self, rotate_count = 1):\n",
    "#         width, height = self.image.size\n",
    "#         if(rotate_count % 4 == 0):\n",
    "#             return self\n",
    "#         elif(rotate_count % 4 == 1):\n",
    "#             self.image = self.image.transpose(Image.ROTATE_90).rotate(180)\n",
    "#         elif(rotate_count % 4 == 2):\n",
    "#             self.image = self.image.rotate(180)\n",
    "#         else:\n",
    "#             self.image = self.image.transpose(Image.ROTATE_90)\n",
    "#         return self\n",
    "    \n",
    "#     def filter(self, amount, rgb='r'):\n",
    "#         pixels = self.image.load()\n",
    "        \n",
    "#         for i in range(self.image.size[0]):\n",
    "#             for j in range(self.image.size[1]):\n",
    "#                 pixels[i,j] = (\n",
    "#                     pixels[i,j][0] if 'r' not in rgb else int(pixels[i,j][0] * amount),\n",
    "#                     pixels[i,j][1] if 'g' not in rgb else int(pixels[i,j][1] * amount),\n",
    "#                     pixels[i,j][2] if 'b' not in rgb else int(pixels[i,j][2] * amount)\n",
    "#                 )\n",
    "#         return self  \n",
    "    \n",
    "#     def set_color(self, value, rgb='r'):\n",
    "#         pixels = self.image.load()\n",
    "        \n",
    "#         for i in range(self.image.size[0]):\n",
    "#             for j in range(self.image.size[1]):\n",
    "#                 pixels[i,j] = (\n",
    "#                     pixels[i,j][0] if 'r' not in rgb else value,\n",
    "#                     pixels[i,j][1] if 'g' not in rgb else value,\n",
    "#                     pixels[i,j][2] if 'b' not in rgb else value\n",
    "#                 )\n",
    "#         return self \n",
    "    \n",
    "#     def rotate_color(self):\n",
    "#         pixels = self.image.load()\n",
    "        \n",
    "#         for i in range(self.image.size[0]):\n",
    "#             for j in range(self.image.size[1]):\n",
    "#                 pixels[i,j] = (\n",
    "#                     pixels[i,j][1],\n",
    "#                     pixels[i,j][2],\n",
    "#                     pixels[i,j][0]\n",
    "#                 )\n",
    "#         return self \n",
    "    \n",
    "#     def invert(self, rgb='r'):\n",
    "#         pixels = self.image.load()\n",
    "        \n",
    "#         for i in range(self.image.size[0]):\n",
    "#             for j in range(self.image.size[1]):\n",
    "#                 pixels[i,j] = (\n",
    "#                     pixels[i,j][0] if 'r' not in rgb else 255-pixels[i,j][0],\n",
    "#                     pixels[i,j][1] if 'g' not in rgb else 255-pixels[i,j][1],\n",
    "#                     pixels[i,j][2] if 'b' not in rgb else 255-pixels[i,j][2]\n",
    "#                 )\n",
    "#         return self \n",
    "    \n",
    "#     def grayscale_red(self):\n",
    "#         pixels = self.image.load()\n",
    "        \n",
    "#         for i in range(self.image.size[0]):\n",
    "#             for j in range(self.image.size[1]):\n",
    "#                 pixels[i,j] = (\n",
    "#                     pixels[i,j][0],\n",
    "#                     pixels[i,j][0],\n",
    "#                     pixels[i,j][0]\n",
    "#                 )\n",
    "#         return self \n",
    "    \n",
    "#     def grayscale_green(self):\n",
    "#         pixels = self.image.load()\n",
    "        \n",
    "#         for i in range(self.image.size[0]):\n",
    "#             for j in range(self.image.size[1]):\n",
    "#                 pixels[i,j] = (\n",
    "#                     pixels[i,j][1],\n",
    "#                     pixels[i,j][1],\n",
    "#                     pixels[i,j][1]\n",
    "#                 )\n",
    "#         return self \n",
    "    \n",
    "#     def grayscale_blue(self):\n",
    "#         pixels = self.image.load()\n",
    "        \n",
    "#         for i in range(self.image.size[0]):\n",
    "#             for j in range(self.image.size[1]):\n",
    "#                 pixels[i,j] = (\n",
    "#                     pixels[i,j][2],\n",
    "#                     pixels[i,j][2],\n",
    "#                     pixels[i,j][2]\n",
    "#                 )\n",
    "#         return self \n",
    "    \n",
    "#     def grayscale(self):\n",
    "#         pixels = self.image.load()\n",
    "        \n",
    "#         for i in range(self.image.size[0]):\n",
    "#             for j in range(self.image.size[1]):\n",
    "#                 pixels[i,j] = (\n",
    "#                     int((pixels[i,j][0] + pixels[i,j][1] + pixels[i,j][2])/3),\n",
    "#                     int((pixels[i,j][0] + pixels[i,j][1] + pixels[i,j][2])/3),\n",
    "#                     int((pixels[i,j][0] + pixels[i,j][1] + pixels[i,j][2])/3)\n",
    "#                 )\n",
    "#         return self "
   ]
  },
  {
   "cell_type": "code",
   "execution_count": 37,
   "metadata": {},
   "outputs": [],
   "source": [
    "# img = ImageModifier(r\"C:\\Users\\kolth\\Downloads\\IMG_20191108_090307.jpg\")\n",
    "# img.grayscale().show()"
   ]
  },
  {
   "cell_type": "code",
   "execution_count": 39,
   "metadata": {},
   "outputs": [],
   "source": [
    "if not os.path.exists('config.ini'):\n",
    "    config = ConfigParser()\n",
    "\n",
    "    config.read('config.ini')\n",
    "    config.add_section('settings')\n",
    "    config.set('settings', 'destination', './')\n",
    "\n",
    "    with open('config.ini', 'w') as f:\n",
    "        config.write(f)"
   ]
  },
  {
   "cell_type": "code",
   "execution_count": 71,
   "metadata": {},
   "outputs": [
    {
     "name": "stdout",
     "output_type": "stream",
     "text": [
      "-s\n"
     ]
    }
   ],
   "source": [
    "args = \"-s\".split()\n",
    "# for arg in sys.argv:\n",
    "for arg in args:\n",
    "    print(arg)"
   ]
  },
  {
   "cell_type": "code",
   "execution_count": 72,
   "metadata": {},
   "outputs": [
    {
     "data": {
      "text/plain": [
       "Namespace(s=<function hello at 0x0000015C77E8C268>)"
      ]
     },
     "execution_count": 72,
     "metadata": {},
     "output_type": "execute_result"
    }
   ],
   "source": [
    "def hello():\n",
    "    print(\"hello\")\n",
    "\n",
    "parser = argparse.ArgumentParser()\n",
    "parser.add_argument('-s', help='set the default image / folder location for future commands without a destination specified', action='store_const', const=hello)\n",
    "args = parser.parse_args(args)\n",
    "args"
   ]
  },
  {
   "cell_type": "code",
   "execution_count": null,
   "metadata": {},
   "outputs": [],
   "source": []
  }
 ],
 "metadata": {
  "kernelspec": {
   "display_name": "Python 3",
   "language": "python",
   "name": "python3"
  },
  "language_info": {
   "codemirror_mode": {
    "name": "ipython",
    "version": 3
   },
   "file_extension": ".py",
   "mimetype": "text/x-python",
   "name": "python",
   "nbconvert_exporter": "python",
   "pygments_lexer": "ipython3",
   "version": "3.7.3"
  }
 },
 "nbformat": 4,
 "nbformat_minor": 4
}
